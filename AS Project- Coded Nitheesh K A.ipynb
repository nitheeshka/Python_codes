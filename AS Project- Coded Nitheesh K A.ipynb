{
 "cells": [
  {
   "cell_type": "markdown",
   "id": "4355106d",
   "metadata": {},
   "source": [
    "# Inferential Statistics Coded Project"
   ]
  },
  {
   "cell_type": "markdown",
   "id": "7bd49ceb",
   "metadata": {},
   "source": [
    "#### Import all the necessary libraries"
   ]
  },
  {
   "cell_type": "code",
   "execution_count": 1,
   "id": "b85c16f6",
   "metadata": {},
   "outputs": [],
   "source": [
    "import numpy as np\n",
    "import pandas as pd\n",
    "from matplotlib import pyplot as plt\n",
    "import seaborn as sns\n",
    "import scipy.stats as stats\n",
    "from scipy.stats import f_oneway\n",
    "from statsmodels.stats.multicomp import pairwise_tukeyhsd\n",
    "import statsmodels.api as sm\n",
    "from statsmodels.formula.api import ols"
   ]
  },
  {
   "cell_type": "markdown",
   "id": "86328a54",
   "metadata": {},
   "source": [
    "### Problem 1"
   ]
  },
  {
   "cell_type": "markdown",
   "id": "5fdc1b43",
   "metadata": {},
   "source": [
    "**Objective**\n",
    "A physiotherapist with a male football team is interested in studying the relationship between foot injuries and the positions at which the players play from the data collected."
   ]
  },
  {
   "cell_type": "markdown",
   "id": "9974d6fe",
   "metadata": {},
   "source": [
    "#### Data Overview"
   ]
  },
  {
   "cell_type": "code",
   "execution_count": 6,
   "id": "83a9fc1a",
   "metadata": {},
   "outputs": [
    {
     "data": {
      "text/html": [
       "<div>\n",
       "<style scoped>\n",
       "    .dataframe tbody tr th:only-of-type {\n",
       "        vertical-align: middle;\n",
       "    }\n",
       "\n",
       "    .dataframe tbody tr th {\n",
       "        vertical-align: top;\n",
       "    }\n",
       "\n",
       "    .dataframe thead th {\n",
       "        text-align: right;\n",
       "    }\n",
       "</style>\n",
       "<table border=\"1\" class=\"dataframe\">\n",
       "  <thead>\n",
       "    <tr style=\"text-align: right;\">\n",
       "      <th></th>\n",
       "      <th>Players Injured</th>\n",
       "      <th>Players Not Injured</th>\n",
       "      <th>Total Players</th>\n",
       "    </tr>\n",
       "    <tr>\n",
       "      <th>Position</th>\n",
       "      <th></th>\n",
       "      <th></th>\n",
       "      <th></th>\n",
       "    </tr>\n",
       "  </thead>\n",
       "  <tbody>\n",
       "    <tr>\n",
       "      <th>Striker</th>\n",
       "      <td>45</td>\n",
       "      <td>32</td>\n",
       "      <td>77</td>\n",
       "    </tr>\n",
       "    <tr>\n",
       "      <th>Forward</th>\n",
       "      <td>56</td>\n",
       "      <td>38</td>\n",
       "      <td>94</td>\n",
       "    </tr>\n",
       "    <tr>\n",
       "      <th>Attacking Midfielder</th>\n",
       "      <td>24</td>\n",
       "      <td>11</td>\n",
       "      <td>35</td>\n",
       "    </tr>\n",
       "    <tr>\n",
       "      <th>Winger</th>\n",
       "      <td>20</td>\n",
       "      <td>9</td>\n",
       "      <td>29</td>\n",
       "    </tr>\n",
       "    <tr>\n",
       "      <th>Total Players</th>\n",
       "      <td>145</td>\n",
       "      <td>90</td>\n",
       "      <td>235</td>\n",
       "    </tr>\n",
       "  </tbody>\n",
       "</table>\n",
       "</div>"
      ],
      "text/plain": [
       "                      Players Injured  Players Not Injured  Total Players\n",
       "Position                                                                 \n",
       "Striker                            45                   32             77\n",
       "Forward                            56                   38             94\n",
       "Attacking Midfielder               24                   11             35\n",
       "Winger                             20                    9             29\n",
       "Total Players                     145                   90            235"
      ]
     },
     "execution_count": 6,
     "metadata": {},
     "output_type": "execute_result"
    }
   ],
   "source": [
    "data = {\n",
    "    \"Position\": [\"Striker\", \"Forward\", \"Attacking Midfielder\", \"Winger\"],\n",
    "    \"Players Injured\": [45, 56, 24, 20],\n",
    "    \"Players Not Injured\": [32, 38, 11, 9]\n",
    "}  # Importing the data given in the question\n",
    "df = pd.DataFrame(data)\n",
    "df = df.set_index(\"Position\", drop=True)\n",
    "df[\"Total Players\"] = df.sum(axis=1)\n",
    "df.loc[\"Total Players\"] = df.sum()\n",
    "df"
   ]
  },
  {
   "cell_type": "markdown",
   "id": "131f13d7",
   "metadata": {},
   "source": [
    "The physiotherapist examined 235 male football players and found varying injury rates across positions. Strikers had the highest injuries (45 out of 77 players), followed by Forwards (56 out of 94). Attacking Midfielders experienced 24 injuries out of 35, while Wingers had 20 injuries out of 29. In total, 145 players were injured, and 90 remained injury-free."
   ]
  },
  {
   "cell_type": "markdown",
   "id": "431b26ec",
   "metadata": {},
   "source": [
    "Removing the Total values from the dataframe"
   ]
  },
  {
   "cell_type": "code",
   "execution_count": 24,
   "id": "cbd74ba0",
   "metadata": {},
   "outputs": [],
   "source": [
    "df = df.drop(\"Total Players\", axis=1)\n",
    "df = df.drop(\"Total Players\", axis=0)"
   ]
  },
  {
   "cell_type": "markdown",
   "id": "4cfac9b2",
   "metadata": {},
   "source": [
    "##### 1. What is the probability that a randomly chosen player would suffer an injury?"
   ]
  },
  {
   "cell_type": "code",
   "execution_count": 25,
   "id": "21bc08b6",
   "metadata": {
    "scrolled": true
   },
   "outputs": [
    {
     "name": "stdout",
     "output_type": "stream",
     "text": [
      "The probability that a randomly chosen player would suffer an injury is: 61.70%\n"
     ]
    }
   ],
   "source": [
    "total_injured_players = df[\"Players Injured\"].sum()\n",
    "total_players = df[[\"Players Injured\", \"Players Not Injured\"]].sum().sum()\n",
    "probability_of_injury = total_injured_players / total_players\n",
    "print(f\"The probability that a randomly chosen player would suffer an injury is: {probability_of_injury:.2%}\")"
   ]
  },
  {
   "cell_type": "markdown",
   "id": "598c1a85",
   "metadata": {},
   "source": [
    "The probability of a randomly chosen player suffering an injury in the football team is approximately 61.70%, calculated by dividing the total number of injured players by the overall player count."
   ]
  },
  {
   "cell_type": "markdown",
   "id": "8f61f635",
   "metadata": {},
   "source": [
    "##### 2. What is the probability that a player is a forward or a winger?"
   ]
  },
  {
   "cell_type": "code",
   "execution_count": 26,
   "id": "5300c260",
   "metadata": {},
   "outputs": [
    {
     "name": "stdout",
     "output_type": "stream",
     "text": [
      "The probability that a player is a forward or a winger is: 52.34%\n"
     ]
    }
   ],
   "source": [
    "forward_and_winger_players = df.loc[[\"Forward\", \"Winger\"]].sum().sum()\n",
    "\n",
    "probability_forward_or_winger = forward_and_winger_players / total_players\n",
    "\n",
    "print(f\"The probability that a player is a forward or a winger is: {probability_forward_or_winger:.2%}\")"
   ]
  },
  {
   "cell_type": "markdown",
   "id": "8ee9d793",
   "metadata": {},
   "source": [
    "The probability that a player is either a forward or a winger in the football team is approximately 52.34%. This is determined by summing the players in the \"Forward\" and \"Winger\" positions and dividing it by the total number of players."
   ]
  },
  {
   "cell_type": "markdown",
   "id": "a94a563a",
   "metadata": {},
   "source": [
    "##### 3. What is the probability that a randomly chosen player plays in a striker position and has a foot injury?"
   ]
  },
  {
   "cell_type": "code",
   "execution_count": 27,
   "id": "c3eac089",
   "metadata": {},
   "outputs": [
    {
     "name": "stdout",
     "output_type": "stream",
     "text": [
      "The probability that a randomly chosen player plays in a striker position and has a foot injury is: 19.15%\n"
     ]
    }
   ],
   "source": [
    "striker_injured_players = df.loc[\"Striker\", \"Players Injured\"]\n",
    "\n",
    "probability_striker_injury = striker_injured_players / total_players\n",
    "\n",
    "print(f\"The probability that a randomly chosen player plays in a striker position and has a foot injury is: {probability_striker_injury:.2%}\")"
   ]
  },
  {
   "cell_type": "markdown",
   "id": "a87ab66f",
   "metadata": {},
   "source": [
    "The probability that a randomly chosen player both plays in a striker position and has a foot injury within the football team is approximately 19.15%. This is determined by dividing the number of injured strikers by the total number of players."
   ]
  },
  {
   "cell_type": "markdown",
   "id": "ec591efd",
   "metadata": {},
   "source": [
    "##### 4. What is the probability that a randomly chosen injured player is a striker?"
   ]
  },
  {
   "cell_type": "code",
   "execution_count": 28,
   "id": "145e3a7b",
   "metadata": {},
   "outputs": [
    {
     "name": "stdout",
     "output_type": "stream",
     "text": [
      "The probability that a randomly chosen injured player is a striker is: 31.03%\n"
     ]
    }
   ],
   "source": [
    "striker_injured_players = df.loc[\"Striker\", \"Players Injured\"]\n",
    "\n",
    "total_injured_players = df[\"Players Injured\"].sum()\n",
    "\n",
    "probability_injured_striker = striker_injured_players / total_injured_players\n",
    "\n",
    "print(f\"The probability that a randomly chosen injured player is a striker is: {probability_injured_striker:.2%}\")"
   ]
  },
  {
   "cell_type": "markdown",
   "id": "6a50de4c",
   "metadata": {},
   "source": [
    "The probability that a randomly chosen injured player is a striker within the football team is approximately 31.03%. This is calculated by dividing the number of injured strikers by the total number of injured players in the dataset."
   ]
  },
  {
   "cell_type": "markdown",
   "id": "56f938f5",
   "metadata": {},
   "source": [
    "### Problem 2"
   ]
  },
  {
   "cell_type": "markdown",
   "id": "b5b278cd",
   "metadata": {},
   "source": [
    "The breaking strength of gunny bags used for packaging cement is normally distributed with a mean of 5 kg per sq. centimeter and a standard deviation of 1.5 kg per sq. centimeter. The quality team of the cement company wants to know the following about the packaging material to better understand wastage or pilferage within the supply chain;"
   ]
  },
  {
   "cell_type": "markdown",
   "id": "d8683055",
   "metadata": {},
   "source": [
    "##### 1. What proportion of the gunny bags have a breaking strength of less than 3.17 kg per sq cm?"
   ]
  },
  {
   "cell_type": "code",
   "execution_count": 32,
   "id": "a9f5ec9e",
   "metadata": {},
   "outputs": [
    {
     "name": "stdout",
     "output_type": "stream",
     "text": [
      "The proportion of gunny bags with breaking strength less than 3.17 kg per sq. cm is: 0.1112\n"
     ]
    },
    {
     "data": {
      "image/png": "[encoded data removed]",
      "text/plain": [
       "<Figure size 640x480 with 1 Axes>"
      ]
     },
     "metadata": {},
     "output_type": "display_data"
    }
   ],
   "source": [
    "\n",
    "mean_strength = 5\n",
    "std_dev = 1.5 \n",
    "breaking_strength = 3.17  \n",
    "\n",
    "z_score = (breaking_strength - mean_strength) / std_dev\n",
    "\n",
    "probability_less_than = stats.norm.cdf(z_score)\n",
    "\n",
    "print(f\"The proportion of gunny bags with breaking strength less than 3.17 kg per sq. cm is: {probability_less_than:.4f}\")\n",
    "\n",
    "x = np.linspace(mean_strength - 4 * std_dev, mean_strength + 4 * std_dev, 1000)\n",
    "y = stats.norm.pdf(x, mean_strength, std_dev)\n",
    "\n",
    "plt.plot(x, y)\n",
    "plt.fill_between(x, y, where=(x < breaking_strength), alpha=0.3)\n",
    "plt.axvline(x=breaking_strength, color='red', linestyle='--')\n",
    "plt.title('Breaking Strength Distribution and Threshold (Less than 3.17 kg/sq. cm)')\n",
    "plt.xlabel('Breaking Strength (kg per sq. cm)')\n",
    "plt.ylabel('Probability Density')\n",
    "plt.show()"
   ]
  },
  {
   "cell_type": "markdown",
   "id": "1a98610b",
   "metadata": {},
   "source": [
    "The proportion of gunny bags with a breaking strength less than 3.17 kg per sq. cm is approximately 11.12%. This is determined using the z-score to calculate the probability and is visually represented in the provided probability density plot. The red dashed line marks the threshold breaking strength and the shaded region includes all gunny bags having breaking strength less than 3.17 kg per sq. cm."
   ]
  },
  {
   "cell_type": "markdown",
   "id": "8c2a38de",
   "metadata": {},
   "source": [
    "##### 2. What proportion of the gunny bags have a breaking strength of at least 3.6 kg per sq cm.?"
   ]
  },
  {
   "cell_type": "code",
   "execution_count": 34,
   "id": "1b46f952",
   "metadata": {
    "scrolled": false
   },
   "outputs": [
    {
     "name": "stdout",
     "output_type": "stream",
     "text": [
      "The proportion of gunny bags with breaking strength of at least 3.6 kg per sq. cm is: 0.8247\n"
     ]
    },
    {
     "data": {
      "image/png": "[encoded data removed]",
      "text/plain": [
       "<Figure size 640x480 with 1 Axes>"
      ]
     },
     "metadata": {},
     "output_type": "display_data"
    }
   ],
   "source": [
    "\n",
    "mean_strength = 5\n",
    "std_dev = 1.5\n",
    "breaking_strength = 3.6 \n",
    "\n",
    "z_score = (breaking_strength - mean_strength) / std_dev\n",
    "\n",
    "probability_at_least = 1 - stats.norm.cdf(z_score)\n",
    "\n",
    "print(f\"The proportion of gunny bags with breaking strength of at least 3.6 kg per sq. cm is: {probability_at_least:.4f}\")\n",
    "\n",
    "# Visual representation\n",
    "x = np.linspace(mean_strength - 4 * std_dev, mean_strength + 4 * std_dev, 1000)\n",
    "y = stats.norm.pdf(x, mean_strength, std_dev)\n",
    "\n",
    "plt.plot(x, y)\n",
    "plt.fill_between(x, y, where=(x >= breaking_strength), alpha=0.3)\n",
    "plt.axvline(x=breaking_strength, color='red', linestyle='--')\n",
    "plt.title('Breaking Strength Distribution and Threshold (At least 3.6 kg/sq. cm)')\n",
    "plt.xlabel('Breaking Strength (kg per sq. cm)')\n",
    "plt.ylabel('Probability Density')\n",
    "plt.show()"
   ]
  },
  {
   "cell_type": "markdown",
   "id": "7e629e2b",
   "metadata": {},
   "source": [
    "Approximately 82.47% of gunny bags have a breaking strength of at least 3.6 kg per sq. cm. This is determined using the z-score to calculate the complement of the cumulative distribution function. The probability is visually illustrated in the provided probability density plot, with the red dashed line indicating the threshold breaking strength."
   ]
  },
  {
   "cell_type": "markdown",
   "id": "47872c57",
   "metadata": {},
   "source": [
    "##### 3. What proportion of the gunny bags have a breaking strength between 5 and 5.5 kg per sq cm.?"
   ]
  },
  {
   "cell_type": "code",
   "execution_count": 35,
   "id": "8c5cdff2",
   "metadata": {
    "scrolled": false
   },
   "outputs": [
    {
     "name": "stdout",
     "output_type": "stream",
     "text": [
      "The proportion of gunny bags with breaking strength between 5 and 5.5 kg per sq. cm is: 0.1306\n"
     ]
    },
    {
     "data": {
      "image/png": "[encoded data removed]",
      "text/plain": [
       "<Figure size 640x480 with 1 Axes>"
      ]
     },
     "metadata": {},
     "output_type": "display_data"
    }
   ],
   "source": [
    "\n",
    "mean_strength = 5 \n",
    "std_dev = 1.5 \n",
    "lower_strength = 5 \n",
    "upper_strength = 5.5  \n",
    "\n",
    "z_score_lower = (lower_strength - mean_strength) / std_dev\n",
    "z_score_upper = (upper_strength - mean_strength) / std_dev\n",
    "\n",
    "probability_between = stats.norm.cdf(z_score_upper) - stats.norm.cdf(z_score_lower)\n",
    "\n",
    "print(f\"The proportion of gunny bags with breaking strength between 5 and 5.5 kg per sq. cm is: {probability_between:.4f}\")\n",
    "\n",
    "# Visual representation\n",
    "x = np.linspace(mean_strength - 4 * std_dev, mean_strength + 4 * std_dev, 1000)\n",
    "y = stats.norm.pdf(x, mean_strength, std_dev)\n",
    "\n",
    "plt.plot(x, y)\n",
    "plt.fill_between(x, y, where=[(val >= lower_strength and val <= upper_strength) for val in x], alpha=0.3)\n",
    "plt.axvline(x=lower_strength, color='red', linestyle='--')\n",
    "plt.axvline(x=upper_strength, color='red', linestyle='--')\n",
    "plt.title('Breaking Strength Distribution and Interval (5 to 5.5 kg/sq. cm)')\n",
    "plt.xlabel('Breaking Strength (kg per sq. cm)')\n",
    "plt.ylabel('Probability Density')\n",
    "plt.show()"
   ]
  },
  {
   "cell_type": "markdown",
   "id": "10b2cbc0",
   "metadata": {},
   "source": [
    "Approximately 13.06% of gunny bags have a breaking strength between 5 and 5.5 kg per sq. cm. This is calculated using the z-scores corresponding to the lower and upper bounds of the specified range. The probability is visually represented in the provided probability density plot, with red dashed lines indicating the interval."
   ]
  },
  {
   "cell_type": "markdown",
   "id": "0cc5f7d0",
   "metadata": {},
   "source": [
    "##### 4. What proportion of the gunny bags have a breaking strength NOT between 3 and 7.5 kg per sq cm.?"
   ]
  },
  {
   "cell_type": "code",
   "execution_count": 38,
   "id": "04fac5c6",
   "metadata": {},
   "outputs": [
    {
     "name": "stdout",
     "output_type": "stream",
     "text": [
      "The proportion of gunny bags with breaking strength NOT between 3 and 7.5 kg per sq. cm is: 0.1390\n"
     ]
    },
    {
     "data": {
      "image/png": "[encoded data removed]",
      "text/plain": [
       "<Figure size 640x480 with 1 Axes>"
      ]
     },
     "metadata": {},
     "output_type": "display_data"
    }
   ],
   "source": [
    "mean_strength = 5  \n",
    "std_dev = 1.5 \n",
    "lower_bound = 3  \n",
    "upper_bound = 7.5  \n",
    "\n",
    "z_score_lower = (lower_bound - mean_strength) / std_dev\n",
    "z_score_upper = (upper_bound - mean_strength) / std_dev\n",
    "\n",
    "probability_below_3 = stats.norm.cdf(z_score_lower)\n",
    "probability_above_7_5 = 1 - stats.norm.cdf(z_score_upper)\n",
    "\n",
    "probability_not_between_3_and_7_5 = (probability_below_3 + probability_above_7_5)\n",
    "\n",
    "print(f\"The proportion of gunny bags with breaking strength NOT between 3 and 7.5 kg per sq. cm is: {probability_not_between_3_and_7_5:.4f}\")\n",
    "\n",
    "# Visual representation\n",
    "x = np.linspace(mean_strength - 4 * std_dev, mean_strength + 4 * std_dev, 1000)\n",
    "y = stats.norm.pdf(x, mean_strength, std_dev)\n",
    "\n",
    "plt.plot(x, y)\n",
    "plt.fill_between(x, y, where=[(val < lower_bound or val > upper_bound) for val in x], alpha=0.3)\n",
    "plt.axvline(x=lower_bound, color='red', linestyle='--')\n",
    "plt.axvline(x=upper_bound, color='red', linestyle='--')\n",
    "plt.title('Breaking Strength Distribution and Interval')\n",
    "plt.xlabel('Breaking Strength (kg per sq. cm)')\n",
    "plt.ylabel('Probability Density')\n",
    "plt.show()"
   ]
  },
  {
   "cell_type": "markdown",
   "id": "0db858bd",
   "metadata": {},
   "source": [
    "Approximately 13.90% of gunny bags have a breaking strength that is NOT between 3 and 7.5 kg per sq. cm. This is calculated by finding the the cumulative probabilities below the lower bound and above the upper bound. The sum of these probabilities gives the proportion of gunny bags with breaking strength outside the specified interval. The probability is visually depicted in the provided probability density plot, with red dashed lines with shaded areas indicating the interval."
   ]
  },
  {
   "cell_type": "markdown",
   "id": "c631990a",
   "metadata": {},
   "source": [
    "### Problem 3"
   ]
  },
  {
   "cell_type": "markdown",
   "id": "90b49009",
   "metadata": {},
   "source": [
    "Zingaro stone printing is a company that specializes in printing images or patterns on polished or unpolished stones. However, for the optimum level of printing of the image, the stone surface has to have a Brinell's hardness index of at least 150. Recently, Zingaro has received a batch of polished and unpolished stones from its clients. Use the data provided to answer the following (assuming a 5% significance level);"
   ]
  },
  {
   "cell_type": "code",
   "execution_count": 3,
   "id": "5808c395",
   "metadata": {},
   "outputs": [],
   "source": [
    "zingaro = pd.read_csv(r\"C:\\Users\\Nitheesh\\Downloads\\Zingaro_Company.csv\")"
   ]
  },
  {
   "cell_type": "code",
   "execution_count": 4,
   "id": "8058bfde",
   "metadata": {
    "scrolled": true
   },
   "outputs": [
    {
     "data": {
      "text/html": [
       "<div>\n",
       "<style scoped>\n",
       "    .dataframe tbody tr th:only-of-type {\n",
       "        vertical-align: middle;\n",
       "    }\n",
       "\n",
       "    .dataframe tbody tr th {\n",
       "        vertical-align: top;\n",
       "    }\n",
       "\n",
       "    .dataframe thead th {\n",
       "        text-align: right;\n",
       "    }\n",
       "</style>\n",
       "<table border=\"1\" class=\"dataframe\">\n",
       "  <thead>\n",
       "    <tr style=\"text-align: right;\">\n",
       "      <th></th>\n",
       "      <th>Unpolished</th>\n",
       "      <th>Treated and Polished</th>\n",
       "    </tr>\n",
       "  </thead>\n",
       "  <tbody>\n",
       "    <tr>\n",
       "      <th>0</th>\n",
       "      <td>164.481713</td>\n",
       "      <td>133.209393</td>\n",
       "    </tr>\n",
       "    <tr>\n",
       "      <th>1</th>\n",
       "      <td>154.307045</td>\n",
       "      <td>138.482771</td>\n",
       "    </tr>\n",
       "    <tr>\n",
       "      <th>2</th>\n",
       "      <td>129.861048</td>\n",
       "      <td>159.665201</td>\n",
       "    </tr>\n",
       "    <tr>\n",
       "      <th>3</th>\n",
       "      <td>159.096184</td>\n",
       "      <td>145.663528</td>\n",
       "    </tr>\n",
       "    <tr>\n",
       "      <th>4</th>\n",
       "      <td>135.256748</td>\n",
       "      <td>136.789227</td>\n",
       "    </tr>\n",
       "    <tr>\n",
       "      <th>...</th>\n",
       "      <td>...</td>\n",
       "      <td>...</td>\n",
       "    </tr>\n",
       "    <tr>\n",
       "      <th>70</th>\n",
       "      <td>123.067611</td>\n",
       "      <td>142.293544</td>\n",
       "    </tr>\n",
       "    <tr>\n",
       "      <th>71</th>\n",
       "      <td>171.822218</td>\n",
       "      <td>140.124092</td>\n",
       "    </tr>\n",
       "    <tr>\n",
       "      <th>72</th>\n",
       "      <td>88.135994</td>\n",
       "      <td>141.393091</td>\n",
       "    </tr>\n",
       "    <tr>\n",
       "      <th>73</th>\n",
       "      <td>145.150397</td>\n",
       "      <td>131.370530</td>\n",
       "    </tr>\n",
       "    <tr>\n",
       "      <th>74</th>\n",
       "      <td>170.854823</td>\n",
       "      <td>144.502647</td>\n",
       "    </tr>\n",
       "  </tbody>\n",
       "</table>\n",
       "<p>75 rows × 2 columns</p>\n",
       "</div>"
      ],
      "text/plain": [
       "    Unpolished   Treated and Polished\n",
       "0    164.481713            133.209393\n",
       "1    154.307045            138.482771\n",
       "2    129.861048            159.665201\n",
       "3    159.096184            145.663528\n",
       "4    135.256748            136.789227\n",
       "..          ...                   ...\n",
       "70   123.067611            142.293544\n",
       "71   171.822218            140.124092\n",
       "72    88.135994            141.393091\n",
       "73   145.150397            131.370530\n",
       "74   170.854823            144.502647\n",
       "\n",
       "[75 rows x 2 columns]"
      ]
     },
     "execution_count": 4,
     "metadata": {},
     "output_type": "execute_result"
    }
   ],
   "source": [
    "zingaro"
   ]
  },
  {
   "cell_type": "markdown",
   "id": "7f3e5849",
   "metadata": {},
   "source": [
    "##### 1. Zingaro has reason to believe that the unpolished stones may not be suitable for printing. Do you think Zingaro is justified in thinking so?"
   ]
  },
  {
   "cell_type": "markdown",
   "id": "67f3c46e",
   "metadata": {},
   "source": [
    "**Define null and alternative hypotheses"
   ]
  },
  {
   "cell_type": "markdown",
   "id": "9e30e54e",
   "metadata": {},
   "source": [
    "Null Hypothesis (H0): The mean Brinell's hardness index of unpolished stones is suitable for printing or greater/equal to 150.\n",
    "\n",
    "Alternative Hypothesis (H1): The mean Brinell's hardness index of unpolished stones is not suitable for printing or less than 150."
   ]
  },
  {
   "cell_type": "code",
   "execution_count": 36,
   "id": "043c2959",
   "metadata": {},
   "outputs": [
    {
     "name": "stdout",
     "output_type": "stream",
     "text": [
      "T-statistic: -4.164629601426757\n",
      "P-value: 8.342573994839304e-05\n",
      "Reject the null hypothesis. There is evidence that the mean hardness of unpolished stones is less than 150.\n",
      "Zingaro is justified in thinking that unpolished stones may not be suitable for printing.\n"
     ]
    }
   ],
   "source": [
    "#one-sample t-test\n",
    "t_statistic, p_value = stats.ttest_1samp(zingaro['Unpolished '], popmean=150)\n",
    "\n",
    "alpha = 0.05  # Set the significance level\n",
    "\n",
    "print(f'T-statistic: {t_statistic}')\n",
    "print(f'P-value: {p_value}')\n",
    "\n",
    "if p_value < alpha:\n",
    "    print(\"Reject the null hypothesis. There is evidence that the mean hardness of unpolished stones is less than 150.\")\n",
    "    print(\"Zingaro is justified in thinking that unpolished stones may not be suitable for printing.\")\n",
    "else:\n",
    "    print(\"Fail to reject the null hypothesis. There is no evidence that the mean hardness is less than 150.\")\n",
    "    print(\"Zingaro may not be justified in thinking that unpolished stones are unsuitable for printing.\")"
   ]
  },
  {
   "cell_type": "markdown",
   "id": "cd17113f",
   "metadata": {},
   "source": [
    "The p-value (8.342573994839304e-05) is significantly less than the chosen significance level (0.05), leading to the rejection of the null hypothesis. This provides strong evidence that the mean hardness of unpolished stones is less than 150. Therefore, Zingaro is justified in thinking that unpolished stones may not be suitable for printing."
   ]
  },
  {
   "cell_type": "markdown",
   "id": "15d1df43",
   "metadata": {},
   "source": [
    "##### 2. Is the mean hardness of the polished and unpolished stones the same?"
   ]
  },
  {
   "cell_type": "markdown",
   "id": "af016176",
   "metadata": {},
   "source": [
    "**Define null and alternative hypotheses"
   ]
  },
  {
   "cell_type": "markdown",
   "id": "d4d83073",
   "metadata": {},
   "source": [
    "Null Hypothesis (H0): The mean hardness of polished stones is equal to the mean hardness of unpolished stones.\n",
    "\n",
    "Alternative Hypothesis (H1): The mean hardness of polished stones is not equal to the mean hardness of unpolished stones."
   ]
  },
  {
   "cell_type": "code",
   "execution_count": 35,
   "id": "2416c381",
   "metadata": {
    "scrolled": true
   },
   "outputs": [
    {
     "name": "stdout",
     "output_type": "stream",
     "text": [
      "T-statistic: -3.2422320501414053\n",
      "P-value: 0.0014655150194628353\n",
      "Reject the null hypothesis. There is evidence of a significant difference.\n"
     ]
    }
   ],
   "source": [
    "# two-sample t-test\n",
    "t_statistic, p_value = stats.ttest_ind(zingaro['Unpolished '], zingaro['Treated and Polished'])\n",
    "\n",
    "alpha = 0.05 # Set the significance level\n",
    "\n",
    "print(f'T-statistic: {t_statistic}')\n",
    "print(f'P-value: {p_value}')\n",
    "\n",
    "if p_value < alpha:\n",
    "    print(\"Reject the null hypothesis. There is evidence of a significant difference.\")\n",
    "else:\n",
    "    print(\"Fail to reject the null hypothesis. There is no significant difference.\")"
   ]
  },
  {
   "cell_type": "markdown",
   "id": "8eade791",
   "metadata": {},
   "source": [
    "The two-sample t-test compares the mean hardness of polished and unpolished stones. The results indicate a significant difference, and therefore, the null hypothesis is rejected. This suggests that there is evidence of a notable distinction in hardness between the two types of stones.\n",
    "The p-value (0.0014655150194628353) is significantly less than the chosen significance level (0.05), leading to the rejection of the null hypothesis. This provides evidence of a significant difference in the mean hardness between polished and unpolished stones. Therefore, it is concluded that the mean hardness of the polished and unpolished stones is not the same."
   ]
  },
  {
   "cell_type": "markdown",
   "id": "ccbf5ec4",
   "metadata": {},
   "source": [
    "### Problem 4"
   ]
  },
  {
   "cell_type": "markdown",
   "id": "3d02d18b",
   "metadata": {},
   "source": [
    "Dental implant data: The hardness of metal implants in dental cavities depends on multiple factors, such as the method of implant, the temperature at which the metal is treated, the alloy used as well as the dentists who may favor one method above another and may work better in his/her favorite method. The response is the variable of interest."
   ]
  },
  {
   "cell_type": "code",
   "execution_count": 2,
   "id": "f1619382",
   "metadata": {
    "scrolled": true
   },
   "outputs": [
    {
     "data": {
      "text/html": [
       "<div>\n",
       "<style scoped>\n",
       "    .dataframe tbody tr th:only-of-type {\n",
       "        vertical-align: middle;\n",
       "    }\n",
       "\n",
       "    .dataframe tbody tr th {\n",
       "        vertical-align: top;\n",
       "    }\n",
       "\n",
       "    .dataframe thead th {\n",
       "        text-align: right;\n",
       "    }\n",
       "</style>\n",
       "<table border=\"1\" class=\"dataframe\">\n",
       "  <thead>\n",
       "    <tr style=\"text-align: right;\">\n",
       "      <th></th>\n",
       "      <th>Dentist</th>\n",
       "      <th>Method</th>\n",
       "      <th>Alloy</th>\n",
       "      <th>Temp</th>\n",
       "      <th>Response</th>\n",
       "    </tr>\n",
       "  </thead>\n",
       "  <tbody>\n",
       "    <tr>\n",
       "      <th>0</th>\n",
       "      <td>1</td>\n",
       "      <td>1</td>\n",
       "      <td>1</td>\n",
       "      <td>1500</td>\n",
       "      <td>813</td>\n",
       "    </tr>\n",
       "    <tr>\n",
       "      <th>1</th>\n",
       "      <td>1</td>\n",
       "      <td>1</td>\n",
       "      <td>1</td>\n",
       "      <td>1600</td>\n",
       "      <td>792</td>\n",
       "    </tr>\n",
       "    <tr>\n",
       "      <th>2</th>\n",
       "      <td>1</td>\n",
       "      <td>1</td>\n",
       "      <td>1</td>\n",
       "      <td>1700</td>\n",
       "      <td>792</td>\n",
       "    </tr>\n",
       "    <tr>\n",
       "      <th>3</th>\n",
       "      <td>1</td>\n",
       "      <td>1</td>\n",
       "      <td>2</td>\n",
       "      <td>1500</td>\n",
       "      <td>907</td>\n",
       "    </tr>\n",
       "    <tr>\n",
       "      <th>4</th>\n",
       "      <td>1</td>\n",
       "      <td>1</td>\n",
       "      <td>2</td>\n",
       "      <td>1600</td>\n",
       "      <td>792</td>\n",
       "    </tr>\n",
       "    <tr>\n",
       "      <th>...</th>\n",
       "      <td>...</td>\n",
       "      <td>...</td>\n",
       "      <td>...</td>\n",
       "      <td>...</td>\n",
       "      <td>...</td>\n",
       "    </tr>\n",
       "    <tr>\n",
       "      <th>85</th>\n",
       "      <td>5</td>\n",
       "      <td>3</td>\n",
       "      <td>1</td>\n",
       "      <td>1600</td>\n",
       "      <td>483</td>\n",
       "    </tr>\n",
       "    <tr>\n",
       "      <th>86</th>\n",
       "      <td>5</td>\n",
       "      <td>3</td>\n",
       "      <td>1</td>\n",
       "      <td>1700</td>\n",
       "      <td>405</td>\n",
       "    </tr>\n",
       "    <tr>\n",
       "      <th>87</th>\n",
       "      <td>5</td>\n",
       "      <td>3</td>\n",
       "      <td>2</td>\n",
       "      <td>1500</td>\n",
       "      <td>536</td>\n",
       "    </tr>\n",
       "    <tr>\n",
       "      <th>88</th>\n",
       "      <td>5</td>\n",
       "      <td>3</td>\n",
       "      <td>2</td>\n",
       "      <td>1600</td>\n",
       "      <td>405</td>\n",
       "    </tr>\n",
       "    <tr>\n",
       "      <th>89</th>\n",
       "      <td>5</td>\n",
       "      <td>3</td>\n",
       "      <td>2</td>\n",
       "      <td>1700</td>\n",
       "      <td>312</td>\n",
       "    </tr>\n",
       "  </tbody>\n",
       "</table>\n",
       "<p>90 rows × 5 columns</p>\n",
       "</div>"
      ],
      "text/plain": [
       "    Dentist  Method  Alloy  Temp  Response\n",
       "0         1       1      1  1500       813\n",
       "1         1       1      1  1600       792\n",
       "2         1       1      1  1700       792\n",
       "3         1       1      2  1500       907\n",
       "4         1       1      2  1600       792\n",
       "..      ...     ...    ...   ...       ...\n",
       "85        5       3      1  1600       483\n",
       "86        5       3      1  1700       405\n",
       "87        5       3      2  1500       536\n",
       "88        5       3      2  1600       405\n",
       "89        5       3      2  1700       312\n",
       "\n",
       "[90 rows x 5 columns]"
      ]
     },
     "execution_count": 2,
     "metadata": {},
     "output_type": "execute_result"
    }
   ],
   "source": [
    "implant_data = pd.read_excel(r\"C:\\Users\\Nitheesh\\Downloads\\Dental+Hardness+data.xlsx\",sheet_name= 'Data')\n",
    "implant_data"
   ]
  },
  {
   "cell_type": "code",
   "execution_count": 3,
   "id": "ca639dc3",
   "metadata": {
    "scrolled": true
   },
   "outputs": [
    {
     "data": {
      "text/html": [
       "<div>\n",
       "<style scoped>\n",
       "    .dataframe tbody tr th:only-of-type {\n",
       "        vertical-align: middle;\n",
       "    }\n",
       "\n",
       "    .dataframe tbody tr th {\n",
       "        vertical-align: top;\n",
       "    }\n",
       "\n",
       "    .dataframe thead th {\n",
       "        text-align: right;\n",
       "    }\n",
       "</style>\n",
       "<table border=\"1\" class=\"dataframe\">\n",
       "  <thead>\n",
       "    <tr style=\"text-align: right;\">\n",
       "      <th></th>\n",
       "      <th>Dentist</th>\n",
       "      <th>Method</th>\n",
       "      <th>Alloy</th>\n",
       "      <th>Temp</th>\n",
       "      <th>Response</th>\n",
       "    </tr>\n",
       "  </thead>\n",
       "  <tbody>\n",
       "    <tr>\n",
       "      <th>count</th>\n",
       "      <td>90.000000</td>\n",
       "      <td>90.000000</td>\n",
       "      <td>90.000000</td>\n",
       "      <td>90.000000</td>\n",
       "      <td>90.000000</td>\n",
       "    </tr>\n",
       "    <tr>\n",
       "      <th>mean</th>\n",
       "      <td>3.000000</td>\n",
       "      <td>2.000000</td>\n",
       "      <td>1.500000</td>\n",
       "      <td>1600.000000</td>\n",
       "      <td>741.777778</td>\n",
       "    </tr>\n",
       "    <tr>\n",
       "      <th>std</th>\n",
       "      <td>1.422136</td>\n",
       "      <td>0.821071</td>\n",
       "      <td>0.502801</td>\n",
       "      <td>82.107083</td>\n",
       "      <td>145.767845</td>\n",
       "    </tr>\n",
       "    <tr>\n",
       "      <th>min</th>\n",
       "      <td>1.000000</td>\n",
       "      <td>1.000000</td>\n",
       "      <td>1.000000</td>\n",
       "      <td>1500.000000</td>\n",
       "      <td>289.000000</td>\n",
       "    </tr>\n",
       "    <tr>\n",
       "      <th>25%</th>\n",
       "      <td>2.000000</td>\n",
       "      <td>1.000000</td>\n",
       "      <td>1.000000</td>\n",
       "      <td>1500.000000</td>\n",
       "      <td>698.000000</td>\n",
       "    </tr>\n",
       "    <tr>\n",
       "      <th>50%</th>\n",
       "      <td>3.000000</td>\n",
       "      <td>2.000000</td>\n",
       "      <td>1.500000</td>\n",
       "      <td>1600.000000</td>\n",
       "      <td>767.000000</td>\n",
       "    </tr>\n",
       "    <tr>\n",
       "      <th>75%</th>\n",
       "      <td>4.000000</td>\n",
       "      <td>3.000000</td>\n",
       "      <td>2.000000</td>\n",
       "      <td>1700.000000</td>\n",
       "      <td>824.000000</td>\n",
       "    </tr>\n",
       "    <tr>\n",
       "      <th>max</th>\n",
       "      <td>5.000000</td>\n",
       "      <td>3.000000</td>\n",
       "      <td>2.000000</td>\n",
       "      <td>1700.000000</td>\n",
       "      <td>1115.000000</td>\n",
       "    </tr>\n",
       "  </tbody>\n",
       "</table>\n",
       "</div>"
      ],
      "text/plain": [
       "         Dentist     Method      Alloy         Temp     Response\n",
       "count  90.000000  90.000000  90.000000    90.000000    90.000000\n",
       "mean    3.000000   2.000000   1.500000  1600.000000   741.777778\n",
       "std     1.422136   0.821071   0.502801    82.107083   145.767845\n",
       "min     1.000000   1.000000   1.000000  1500.000000   289.000000\n",
       "25%     2.000000   1.000000   1.000000  1500.000000   698.000000\n",
       "50%     3.000000   2.000000   1.500000  1600.000000   767.000000\n",
       "75%     4.000000   3.000000   2.000000  1700.000000   824.000000\n",
       "max     5.000000   3.000000   2.000000  1700.000000  1115.000000"
      ]
     },
     "execution_count": 3,
     "metadata": {},
     "output_type": "execute_result"
    }
   ],
   "source": [
    "implant_data.describe()"
   ]
  },
  {
   "cell_type": "code",
   "execution_count": 4,
   "id": "6377d832",
   "metadata": {
    "scrolled": false
   },
   "outputs": [
    {
     "name": "stdout",
     "output_type": "stream",
     "text": [
      "<class 'pandas.core.frame.DataFrame'>\n",
      "RangeIndex: 90 entries, 0 to 89\n",
      "Data columns (total 5 columns):\n",
      " #   Column    Non-Null Count  Dtype\n",
      "---  ------    --------------  -----\n",
      " 0   Dentist   90 non-null     int64\n",
      " 1   Method    90 non-null     int64\n",
      " 2   Alloy     90 non-null     int64\n",
      " 3   Temp      90 non-null     int64\n",
      " 4   Response  90 non-null     int64\n",
      "dtypes: int64(5)\n",
      "memory usage: 3.6 KB\n"
     ]
    }
   ],
   "source": [
    "implant_data.info()"
   ]
  },
  {
   "cell_type": "code",
   "execution_count": 9,
   "id": "a3b143ac",
   "metadata": {},
   "outputs": [
    {
     "name": "stdout",
     "output_type": "stream",
     "text": [
      "<class 'pandas.core.frame.DataFrame'>\n",
      "RangeIndex: 90 entries, 0 to 89\n",
      "Data columns (total 5 columns):\n",
      " #   Column    Non-Null Count  Dtype   \n",
      "---  ------    --------------  -----   \n",
      " 0   Dentist   90 non-null     category\n",
      " 1   Method    90 non-null     category\n",
      " 2   Alloy     90 non-null     category\n",
      " 3   Temp      90 non-null     int64   \n",
      " 4   Response  90 non-null     int64   \n",
      "dtypes: category(3), int64(2)\n",
      "memory usage: 2.3 KB\n"
     ]
    }
   ],
   "source": [
    "implant_data.Dentist = pd.Categorical(implant_data.Dentist)\n",
    "implant_data.Alloy = pd.Categorical(implant_data.Alloy)\n",
    "implant_data.Method = pd.Categorical(implant_data.Method)\n",
    "implant_data.info()"
   ]
  },
  {
   "cell_type": "code",
   "execution_count": 12,
   "id": "a95b8451",
   "metadata": {},
   "outputs": [
    {
     "name": "stdout",
     "output_type": "stream",
     "text": [
      "[1, 2]\n",
      "Categories (2, int64): [1, 2]\n"
     ]
    }
   ],
   "source": [
    "print(implant_data['Alloy'].unique())"
   ]
  },
  {
   "cell_type": "markdown",
   "id": "253e02d1",
   "metadata": {},
   "source": [
    "##### 1. How does the hardness of implants vary depending on dentists?"
   ]
  },
  {
   "cell_type": "markdown",
   "id": "4a4cb8cd",
   "metadata": {},
   "source": [
    "##### Alloy 1"
   ]
  },
  {
   "cell_type": "markdown",
   "id": "2806a73b",
   "metadata": {},
   "source": [
    "**Define null and alternative hypotheses"
   ]
  },
  {
   "cell_type": "markdown",
   "id": "5706ea8a",
   "metadata": {},
   "source": [
    "Null Hypothesis (H0): The mean hardness of metal implants is the same across all dentists for Alloy Type 1.\n",
    "\n",
    "Alternative Hypothesis (H1): There is a significant difference in mean implant hardness among dentists for Alloy Type 1."
   ]
  },
  {
   "cell_type": "code",
   "execution_count": 13,
   "id": "4c064a71",
   "metadata": {},
   "outputs": [
    {
     "name": "stdout",
     "output_type": "stream",
     "text": [
      "  Dentist Method Alloy  Temp  Response\n",
      "0       1      1     1  1500       813\n",
      "1       1      1     1  1600       792\n",
      "2       1      1     1  1700       792\n",
      "6       1      2     1  1500       782\n",
      "7       1      2     1  1600       698\n"
     ]
    }
   ],
   "source": [
    "print(implant_data[implant_data['Alloy'] == 1].head())"
   ]
  },
  {
   "cell_type": "code",
   "execution_count": 20,
   "id": "6d50fda6",
   "metadata": {
    "scrolled": false
   },
   "outputs": [
    {
     "name": "stdout",
     "output_type": "stream",
     "text": [
      "ANOVA Table for Alloy Type 1:\n",
      "                 sum_sq    df         F    PR(>F)\n",
      "Dentist   106683.688889   4.0  1.977112  0.116567\n",
      "Residual  539593.555556  40.0       NaN       NaN\n",
      "\n",
      "Tukey HSD for Alloy Type 1:\n",
      "  Multiple Comparison of Means - Tukey HSD, FWER=0.05   \n",
      "========================================================\n",
      "group1 group2  meandiff p-adj    lower    upper   reject\n",
      "--------------------------------------------------------\n",
      "     1      2   11.3333 0.9996 -145.0423  167.709  False\n",
      "     1      3  -32.3333 0.9757  -188.709 124.0423  False\n",
      "     1      4  -68.7778 0.7189 -225.1535  87.5979  False\n",
      "     1      5 -122.2222 0.1889 -278.5979  34.1535  False\n",
      "     2      3  -43.6667 0.9298 -200.0423  112.709  False\n",
      "     2      4  -80.1111 0.5916 -236.4868  76.2646  False\n",
      "     2      5 -133.5556 0.1258 -289.9312  22.8201  False\n",
      "     3      4  -36.4444 0.9626 -192.8201 119.9312  False\n",
      "     3      5  -89.8889 0.4805 -246.2646  66.4868  False\n",
      "     4      5  -53.4444 0.8643 -209.8201 102.9312  False\n",
      "--------------------------------------------------------\n"
     ]
    }
   ],
   "source": [
    "alloy_1 = ols('Response ~ Dentist', data=implant_data[implant_data['Alloy'] == 1]).fit()\n",
    "anova_table_1 = sm.stats.anova_lm(alloy_1, typ=2)\n",
    "\n",
    "print(\"ANOVA Table for Alloy Type 1:\")\n",
    "print(anova_table_1)\n",
    "tukey_1 = pairwise_tukeyhsd(endog=implant_data[implant_data['Alloy'] == 1]['Response'], groups=implant_data[implant_data['Alloy'] == 1]['Dentist'])\n",
    "print(\"\\nTukey HSD for Alloy Type 1:\")\n",
    "print(tukey_1)\n"
   ]
  },
  {
   "cell_type": "markdown",
   "id": "862ae7ab",
   "metadata": {},
   "source": [
    "ANOVA Results:\n",
    "The analysis of variance (ANOVA) for Alloy Type 1 reveals a non-significant p-value (p = 0.116567) for the Dentist factor. This implies that, at the 0.05 significance level, we do not have enough evidence to reject the null hypothesis that the mean hardness of metal implants is the same across all dentists for Alloy Type 1.\n",
    "\n",
    "Tukey HSD Results:\n",
    "The Tukey Honestly Significant Difference (HSD) test was performed to compare the mean differences between pairs of dentists. The results show that none of the pairwise comparisons have a p-value less than the significance level of 0.05. Therefore, we do not have sufficient evidence to reject the null hypothesis for any specific pair of dentists.\n",
    "\n",
    "Overall Insight:\n",
    "In summary, based on the ANOVA and Tukey HSD tests for Alloy Type 1, we cannot conclude that there is a significant difference in mean implant hardness among dentists. The variation observed in implant hardness across dentists is likely due to random variability, and there is no clear evidence of systematic differences."
   ]
  },
  {
   "cell_type": "markdown",
   "id": "02eb210d",
   "metadata": {},
   "source": [
    "##### Alloy 2"
   ]
  },
  {
   "cell_type": "markdown",
   "id": "82a8eec6",
   "metadata": {},
   "source": [
    "**Define null and alternative hypotheses"
   ]
  },
  {
   "cell_type": "markdown",
   "id": "12f6c61e",
   "metadata": {},
   "source": [
    "Null Hypothesis (H0): The mean hardness of metal implants is the same across all dentists for Alloy Type 2.\n",
    "\n",
    "Alternative Hypothesis (H1): There is a significant difference in mean implant hardness among dentists for Alloy Type 2."
   ]
  },
  {
   "cell_type": "code",
   "execution_count": 21,
   "id": "fd7f7690",
   "metadata": {
    "scrolled": false
   },
   "outputs": [
    {
     "name": "stdout",
     "output_type": "stream",
     "text": [
      "\n",
      "ANOVA Table for Alloy Type 2:\n",
      "                sum_sq    df         F    PR(>F)\n",
      "Dentist   5.679791e+04   4.0  0.524835  0.718031\n",
      "Residual  1.082205e+06  40.0       NaN       NaN\n",
      "\n",
      "Tukey HSD for Alloy Type 2:\n",
      "  Multiple Comparison of Means - Tukey HSD, FWER=0.05  \n",
      "=======================================================\n",
      "group1 group2 meandiff p-adj    lower    upper   reject\n",
      "-------------------------------------------------------\n",
      "     1      2  -4.1111    1.0 -225.5687 217.3465  False\n",
      "     1      3 -36.5556 0.9895 -258.0131  184.902  False\n",
      "     1      4    -70.0 0.8941 -291.4576 151.4576  False\n",
      "     1      5 -90.1111 0.7724 -311.5687 131.3465  False\n",
      "     2      3 -32.4444 0.9933  -253.902 189.0131  False\n",
      "     2      4 -65.8889 0.9132 -287.3465 155.5687  False\n",
      "     2      5    -86.0 0.8008 -307.4576 135.4576  False\n",
      "     3      4 -33.4444 0.9925  -254.902 188.0131  False\n",
      "     3      5 -53.5556 0.9574 -275.0131  167.902  False\n",
      "     4      5 -20.1111  0.999 -241.5687 201.3465  False\n",
      "-------------------------------------------------------\n"
     ]
    }
   ],
   "source": [
    "alloy_2 = ols('Response ~ Dentist', data=implant_data[implant_data['Alloy'] == 2]).fit()\n",
    "anova_table_2 = sm.stats.anova_lm(alloy_2, typ=2)\n",
    "print(\"\\nANOVA Table for Alloy Type 2:\")\n",
    "print(anova_table_2)\n",
    "\n",
    "tukey_2 = pairwise_tukeyhsd(endog=implant_data[implant_data['Alloy'] == 2]['Response'], groups=implant_data[implant_data['Alloy'] == 2]['Dentist'])\n",
    "print(\"\\nTukey HSD for Alloy Type 2:\")\n",
    "print(tukey_2)"
   ]
  },
  {
   "cell_type": "markdown",
   "id": "64ce92db",
   "metadata": {},
   "source": [
    "ANOVA Results:\n",
    "The analysis of variance (ANOVA) for Alloy Type 2 shows a non-significant p-value (p = 0.718031) for the Dentist factor. At the 0.05 significance level, there is no significant evidence to reject the null hypothesis that the mean hardness of metal implants is the same across all dentists for Alloy Type 2.\n",
    "\n",
    "Tukey HSD Results:\n",
    "The Tukey Honestly Significant Difference (HSD) test was conducted to examine pairwise differences in mean implant hardness between dentists. None of the pairwise comparisons have p-values less than the significance level of 0.05. Consequently, there is no statistically significant evidence to reject the null hypothesis for any specific pair of dentists.\n",
    "\n",
    "Overall Insight:\n",
    "Based on the ANOVA and Tukey HSD tests for Alloy Type 2, there is no significant difference in mean implant hardness among dentists. The variation observed in implant hardness across dentists for Alloy Type 2 appears to be due to random variability, and there is no clear evidence of systematic differences.\n",
    "This lack of significance suggests that, for Alloy Type 2, dentists do not have a significant impact on the hardness of metal implants."
   ]
  },
  {
   "cell_type": "markdown",
   "id": "26946c50",
   "metadata": {},
   "source": [
    "##### 2. How does the hardness of implants vary depending on methods?"
   ]
  },
  {
   "cell_type": "markdown",
   "id": "1df92ab3",
   "metadata": {},
   "source": [
    "##### Alloy 1"
   ]
  },
  {
   "cell_type": "markdown",
   "id": "252ad44d",
   "metadata": {},
   "source": [
    "**Define null and alternative hypotheses"
   ]
  },
  {
   "cell_type": "markdown",
   "id": "42b29498",
   "metadata": {},
   "source": [
    "Null Hypothesis (H0): The mean hardness of metal implants is the same across all methods for Alloy Type 1.\n",
    "\n",
    "Alternative Hypothesis (H1): At least one method has a different mean hardness for Alloy Type 1 implants."
   ]
  },
  {
   "cell_type": "code",
   "execution_count": 22,
   "id": "9ec25647",
   "metadata": {
    "scrolled": false
   },
   "outputs": [
    {
     "name": "stdout",
     "output_type": "stream",
     "text": [
      "ANOVA Table for Alloy Type 1:\n",
      "                 sum_sq    df         F    PR(>F)\n",
      "Method    148472.177778   2.0  6.263327  0.004163\n",
      "Residual  497805.066667  42.0       NaN       NaN\n",
      "\n",
      "Tukey HSD for Alloy Type 1:\n",
      "  Multiple Comparison of Means - Tukey HSD, FWER=0.05   \n",
      "========================================================\n",
      "group1 group2  meandiff p-adj    lower    upper   reject\n",
      "--------------------------------------------------------\n",
      "     1      2   -6.1333  0.987  -102.714  90.4473  False\n",
      "     1      3    -124.8 0.0085 -221.3807 -28.2193   True\n",
      "     2      3 -118.6667 0.0128 -215.2473  -22.086   True\n",
      "--------------------------------------------------------\n"
     ]
    }
   ],
   "source": [
    "alloy_1 = ols('Response ~ Method', data=implant_data[implant_data['Alloy'] == 1]).fit()\n",
    "anova_table_1 = sm.stats.anova_lm(alloy_1, typ=2)\n",
    "\n",
    "print(\"ANOVA Table for Alloy Type 1:\")\n",
    "print(anova_table_1)\n",
    "tukey_1 = pairwise_tukeyhsd(endog=implant_data[implant_data['Alloy'] == 1]['Response'], groups=implant_data[implant_data['Alloy'] == 1]['Method'])\n",
    "print(\"\\nTukey HSD for Alloy Type 1:\")\n",
    "print(tukey_1)\n"
   ]
  },
  {
   "cell_type": "markdown",
   "id": "05c424b7",
   "metadata": {},
   "source": [
    "ANOVA Results:\n",
    "The analysis of variance (ANOVA) for Alloy Type 1 shows a significant p-value (p = 0.004163) for the Method factor. This indicates that there is sufficient evidence to reject the null hypothesis that the mean hardness of metal implants is the same across all methods for Alloy Type 1.\n",
    "\n",
    "Tukey HSD Results:\n",
    "Post-hoc Tukey Honestly Significant Difference (HSD) tests were conducted to explore pairwise differences in mean implant hardness between methods. The results indicate significant differences between Method 1 and Method 3, as well as between Method 2 and Method 3. These differences are supported by p-values below the significance level of 0.05.\n",
    "\n",
    "Overall Insight:\n",
    "The significant ANOVA result suggests that there is a statistically significant difference in mean implant hardness among methods for Alloy Type 1. Further examination through Tukey HSD tests identified specific pairwise differences:\n",
    "**Method 1 vs. Method 3:** The mean implant hardness is significantly lower for Method 3 compared to Method 1.\n",
    "**Method 2 vs. Method 3:** The mean implant hardness is significantly lower for Method 3 compared to Method 2.\n",
    "These findings indicate that Method 3 is associated with lower mean implant hardness compared to both Method 1 and Method 2. Practitioners and researchers should consider these results when selecting or evaluating methods for Alloy Type 1 implants. It may be valuable to investigate the specific procedures or characteristics associated with Method 3 that contribute to the observed differences in implant hardness."
   ]
  },
  {
   "cell_type": "markdown",
   "id": "aa0c8f95",
   "metadata": {},
   "source": [
    "##### Alloy 2"
   ]
  },
  {
   "cell_type": "markdown",
   "id": "64e6a77e",
   "metadata": {},
   "source": [
    "**Define null and alternative hypotheses"
   ]
  },
  {
   "cell_type": "markdown",
   "id": "d96bdd7d",
   "metadata": {},
   "source": [
    "Null Hypothesis (H0): The mean hardness of metal implants is the same across all methods for Alloy Type 2.\n",
    "\n",
    "Alternative Hypothesis (H1): At least one method has a different mean hardness for Alloy Type 2 implants."
   ]
  },
  {
   "cell_type": "code",
   "execution_count": 23,
   "id": "c83cc1ee",
   "metadata": {
    "scrolled": true
   },
   "outputs": [
    {
     "name": "stdout",
     "output_type": "stream",
     "text": [
      "\n",
      "ANOVA Table for Alloy Type 2:\n",
      "            sum_sq    df        F    PR(>F)\n",
      "Method    499640.4   2.0  16.4108  0.000005\n",
      "Residual  639362.4  42.0      NaN       NaN\n",
      "\n",
      "Tukey HSD for Alloy Type 2:\n",
      "  Multiple Comparison of Means - Tukey HSD, FWER=0.05   \n",
      "========================================================\n",
      "group1 group2 meandiff p-adj    lower     upper   reject\n",
      "--------------------------------------------------------\n",
      "     1      2     27.0 0.8212  -82.4546  136.4546  False\n",
      "     1      3   -208.8 0.0001 -318.2546  -99.3454   True\n",
      "     2      3   -235.8    0.0 -345.2546 -126.3454   True\n",
      "--------------------------------------------------------\n"
     ]
    }
   ],
   "source": [
    "alloy_2 = ols('Response ~ Method', data=implant_data[implant_data['Alloy'] == 2]).fit()\n",
    "anova_table_2 = sm.stats.anova_lm(alloy_2, typ=2)\n",
    "print(\"\\nANOVA Table for Alloy Type 2:\")\n",
    "print(anova_table_2)\n",
    "\n",
    "tukey_2 = pairwise_tukeyhsd(endog=implant_data[implant_data['Alloy'] == 2]['Response'], groups=implant_data[implant_data['Alloy'] == 2]['Method'])\n",
    "print(\"\\nTukey HSD for Alloy Type 2:\")\n",
    "print(tukey_2)"
   ]
  },
  {
   "cell_type": "markdown",
   "id": "35221b7c",
   "metadata": {},
   "source": [
    "ANOVA Results:\n",
    "The analysis of variance (ANOVA) for Alloy Type 2 indicates a highly significant p-value (p = 0.000005) for the Method factor. This suggests strong evidence to reject the null hypothesis that the mean hardness of metal implants is the same across all methods for Alloy Type 2.\n",
    "\n",
    "Tukey HSD Results:\n",
    "Post-hoc Tukey Honestly Significant Difference (HSD) tests were performed to examine pairwise differences in mean implant hardness between methods. The results reveal significant differences between all pairs:\n",
    "\n",
    "Method 1 vs. Method 2: No significant difference in mean implant hardness.\n",
    "Method 1 vs. Method 3: Method 3 is associated with significantly lower mean implant hardness compared to Method 1.\n",
    "Method 2 vs. Method 3: Method 3 is associated with significantly lower mean implant hardness compared to Method 2.\n",
    "Overall Insight:\n",
    "The ANOVA and Tukey HSD results collectively suggest that there is a significant difference in mean implant hardness among methods for Alloy Type 2. Specifically:\n",
    "\n",
    "Method 3 exhibits significantly lower mean implant hardness compared to both Method 1 and Method 2.\n",
    "These findings are crucial for practitioners and researchers working with Alloy Type 2 implants. The observed differences may be indicative of variations in procedures or characteristics associated with each method. Further investigation into the specific factors contributing to these differences is recommended for a comprehensive understanding and potential optimization of implant procedures."
   ]
  },
  {
   "cell_type": "markdown",
   "id": "1f80a89d",
   "metadata": {},
   "source": [
    "##### 3. What is the interaction effect between the dentist and method on the hardness of dental implants for each type of alloy?"
   ]
  },
  {
   "cell_type": "code",
   "execution_count": 64,
   "id": "18905d8c",
   "metadata": {
    "scrolled": false
   },
   "outputs": [
    {
     "data": {
      "image/png": "[encoded data removed]",
      "text/plain": [
       "<Figure size 1063.24x500 with 2 Axes>"
      ]
     },
     "metadata": {},
     "output_type": "display_data"
    }
   ],
   "source": [
    "sns.catplot(x='Dentist', y='Response', hue='Method', col='Alloy', kind='point', data= implant_data)\n",
    "\n",
    "plt.xlabel('Dentist')\n",
    "plt.ylabel('Hardness')\n",
    "plt.suptitle('Interaction Effect between Dentist and Method on Hardness for Each Alloy', y=1.02)\n",
    "\n",
    "plt.show()"
   ]
  },
  {
   "cell_type": "markdown",
   "id": "76e1fa34",
   "metadata": {},
   "source": [
    "In both cases, the lines diverge or intersect, it suggests a significant interaction effect. This visual inspection aids in understanding how the dentist and method variables jointly influence implant hardness for each type of alloy."
   ]
  },
  {
   "cell_type": "markdown",
   "id": "15cd31ce",
   "metadata": {},
   "source": [
    "##### 4. How does the hardness of implants vary depending on dentists and methods together?"
   ]
  },
  {
   "cell_type": "markdown",
   "id": "3f88520a",
   "metadata": {},
   "source": [
    "Null Hypothesis (H0): There is no interaction effect between dentists and methods on implant hardness.\n",
    "\n",
    "Alternate Hypothesis (H1): There is a significant interaction effect between dentists and methods on implant hardness."
   ]
  },
  {
   "cell_type": "code",
   "execution_count": 66,
   "id": "1c7ca949",
   "metadata": {},
   "outputs": [
    {
     "name": "stdout",
     "output_type": "stream",
     "text": [
      "                             sum_sq    df          F    PR(>F)\n",
      "C(Dentist)            106683.688889   4.0   3.899638  0.011484\n",
      "C(Method)             148472.177778   2.0  10.854287  0.000284\n",
      "C(Dentist):C(Method)  185941.377778   8.0   3.398383  0.006793\n",
      "Residual              205180.000000  30.0        NaN       NaN\n",
      "                             sum_sq    df          F    PR(>F)\n",
      "C(Dentist)             56797.911111   4.0   1.106152  0.371833\n",
      "C(Method)             499640.400000   2.0  19.461218  0.000004\n",
      "C(Dentist):C(Method)  197459.822222   8.0   1.922787  0.093234\n",
      "Residual              385104.666667  30.0        NaN       NaN\n"
     ]
    }
   ],
   "source": [
    "# For Alloy Type 1\n",
    "model_type_1 = ols('Response ~ C(Dentist) * C(Method)', data=implant_data[implant_data['Alloy'] == 1]).fit()\n",
    "anova_type_1 = sm.stats.anova_lm(model_type_1, typ=2)\n",
    "print(anova_type_1)\n",
    "\n",
    "# For Alloy Type 2\n",
    "model_type_2 = ols('Response ~ C(Dentist) * C(Method)', data=implant_data[implant_data['Alloy'] == 2]).fit()\n",
    "anova_type_2 = sm.stats.anova_lm(model_type_2, typ=2)\n",
    "print(anova_type_2)"
   ]
  },
  {
   "cell_type": "markdown",
   "id": "f82a3d35",
   "metadata": {},
   "source": [
    "For Alloy Type 1, both Dentist and Method have a significant impact on implant hardness, and there is a significant interaction effect between Dentist and Method.\n",
    "For Alloy Type 2, Method significantly influences implant hardness, while Dentist does not show a clear significant effect. The interaction effect is not significant."
   ]
  }
 ],
 "metadata": {
  "kernelspec": {
   "display_name": "Python 3 (ipykernel)",
   "language": "python",
   "name": "python3"
  },
  "language_info": {
   "codemirror_mode": {
    "name": "ipython",
    "version": 3
   },
   "file_extension": ".py",
   "mimetype": "text/x-python",
   "name": "python",
   "nbconvert_exporter": "python",
   "pygments_lexer": "ipython3",
   "version": "3.11.4"
  }
 },
 "nbformat": 4,
 "nbformat_minor": 5
}
